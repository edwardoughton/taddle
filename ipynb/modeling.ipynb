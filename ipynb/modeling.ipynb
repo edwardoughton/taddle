{
 "cells": [
  {
   "cell_type": "code",
   "execution_count": 1,
   "metadata": {},
   "outputs": [],
   "source": [
    "import pandas as pd\n",
    "import numpy as np\n",
    "\n",
    "# repo imports\n",
    "import sys\n",
    "sys.path.append('..')\n",
    "from utils import RidgeEnsemble"
   ]
  },
  {
   "cell_type": "code",
   "execution_count": 2,
   "metadata": {},
   "outputs": [],
   "source": [
    "# from CNN, these match the cluster_data.csv latitudes and longitudes one-to-one\n",
    "feats = np.load('../cnn/predicting-poverty-replication/cluster_feats.npy')"
   ]
  },
  {
   "cell_type": "code",
   "execution_count": 3,
   "metadata": {},
   "outputs": [],
   "source": [
    "clusters = pd.read_csv('../LSMS/output/malawi/clusters/cluster_data.csv')"
   ]
  },
  {
   "cell_type": "code",
   "execution_count": 4,
   "metadata": {},
   "outputs": [
    {
     "data": {
      "text/html": [
       "<div>\n",
       "<style scoped>\n",
       "    .dataframe tbody tr th:only-of-type {\n",
       "        vertical-align: middle;\n",
       "    }\n",
       "\n",
       "    .dataframe tbody tr th {\n",
       "        vertical-align: top;\n",
       "    }\n",
       "\n",
       "    .dataframe thead th {\n",
       "        text-align: right;\n",
       "    }\n",
       "</style>\n",
       "<table border=\"1\" class=\"dataframe\">\n",
       "  <thead>\n",
       "    <tr style=\"text-align: right;\">\n",
       "      <th></th>\n",
       "      <th>cluster_lat</th>\n",
       "      <th>cluster_lon</th>\n",
       "      <th>cluster_persons_surveyed</th>\n",
       "      <th>cluster_annual_consumption_pc</th>\n",
       "      <th>cluster_annual_phone_consumption_pc</th>\n",
       "      <th>cluster_cellphones_pc</th>\n",
       "      <th>cluster_estimated_annual_phone_cost_pc</th>\n",
       "      <th>cluster_annual_consumption_hh_na</th>\n",
       "      <th>cluster_annual_phone_consumption_hh_na</th>\n",
       "      <th>cluster_cellphones_ph_na</th>\n",
       "      <th>cluster_estimated_annual_phone_cost_ph_na</th>\n",
       "      <th>cluster_num_hh_surveyed</th>\n",
       "      <th>cluster_nightlights</th>\n",
       "    </tr>\n",
       "  </thead>\n",
       "  <tbody>\n",
       "    <tr>\n",
       "      <td>0</td>\n",
       "      <td>-17.095150</td>\n",
       "      <td>35.217213</td>\n",
       "      <td>79</td>\n",
       "      <td>961.328026</td>\n",
       "      <td>47.627469</td>\n",
       "      <td>0.177215</td>\n",
       "      <td>428.481013</td>\n",
       "      <td>0.0</td>\n",
       "      <td>0.0</td>\n",
       "      <td>0.0</td>\n",
       "      <td>0.5000</td>\n",
       "      <td>16</td>\n",
       "      <td>0.000000</td>\n",
       "    </tr>\n",
       "    <tr>\n",
       "      <td>1</td>\n",
       "      <td>-17.092351</td>\n",
       "      <td>35.114643</td>\n",
       "      <td>70</td>\n",
       "      <td>855.258482</td>\n",
       "      <td>3.189638</td>\n",
       "      <td>0.028571</td>\n",
       "      <td>32.571429</td>\n",
       "      <td>0.0</td>\n",
       "      <td>0.0</td>\n",
       "      <td>0.0</td>\n",
       "      <td>0.8750</td>\n",
       "      <td>16</td>\n",
       "      <td>0.000000</td>\n",
       "    </tr>\n",
       "    <tr>\n",
       "      <td>2</td>\n",
       "      <td>-17.016698</td>\n",
       "      <td>35.079629</td>\n",
       "      <td>78</td>\n",
       "      <td>1058.343450</td>\n",
       "      <td>1.978659</td>\n",
       "      <td>0.025641</td>\n",
       "      <td>19.230769</td>\n",
       "      <td>0.0</td>\n",
       "      <td>0.0</td>\n",
       "      <td>0.0</td>\n",
       "      <td>0.8750</td>\n",
       "      <td>16</td>\n",
       "      <td>0.000000</td>\n",
       "    </tr>\n",
       "    <tr>\n",
       "      <td>3</td>\n",
       "      <td>-16.977243</td>\n",
       "      <td>35.205706</td>\n",
       "      <td>66</td>\n",
       "      <td>1127.493134</td>\n",
       "      <td>8.631155</td>\n",
       "      <td>0.045455</td>\n",
       "      <td>83.333333</td>\n",
       "      <td>0.0</td>\n",
       "      <td>0.0</td>\n",
       "      <td>0.0</td>\n",
       "      <td>0.8125</td>\n",
       "      <td>16</td>\n",
       "      <td>0.121212</td>\n",
       "    </tr>\n",
       "    <tr>\n",
       "      <td>4</td>\n",
       "      <td>-16.956385</td>\n",
       "      <td>35.168967</td>\n",
       "      <td>61</td>\n",
       "      <td>736.167585</td>\n",
       "      <td>5.081308</td>\n",
       "      <td>0.065574</td>\n",
       "      <td>49.180328</td>\n",
       "      <td>0.0</td>\n",
       "      <td>0.0</td>\n",
       "      <td>0.0</td>\n",
       "      <td>0.7500</td>\n",
       "      <td>16</td>\n",
       "      <td>0.502674</td>\n",
       "    </tr>\n",
       "  </tbody>\n",
       "</table>\n",
       "</div>"
      ],
      "text/plain": [
       "   cluster_lat  cluster_lon  cluster_persons_surveyed  \\\n",
       "0   -17.095150    35.217213                        79   \n",
       "1   -17.092351    35.114643                        70   \n",
       "2   -17.016698    35.079629                        78   \n",
       "3   -16.977243    35.205706                        66   \n",
       "4   -16.956385    35.168967                        61   \n",
       "\n",
       "   cluster_annual_consumption_pc  cluster_annual_phone_consumption_pc  \\\n",
       "0                     961.328026                            47.627469   \n",
       "1                     855.258482                             3.189638   \n",
       "2                    1058.343450                             1.978659   \n",
       "3                    1127.493134                             8.631155   \n",
       "4                     736.167585                             5.081308   \n",
       "\n",
       "   cluster_cellphones_pc  cluster_estimated_annual_phone_cost_pc  \\\n",
       "0               0.177215                              428.481013   \n",
       "1               0.028571                               32.571429   \n",
       "2               0.025641                               19.230769   \n",
       "3               0.045455                               83.333333   \n",
       "4               0.065574                               49.180328   \n",
       "\n",
       "   cluster_annual_consumption_hh_na  cluster_annual_phone_consumption_hh_na  \\\n",
       "0                               0.0                                     0.0   \n",
       "1                               0.0                                     0.0   \n",
       "2                               0.0                                     0.0   \n",
       "3                               0.0                                     0.0   \n",
       "4                               0.0                                     0.0   \n",
       "\n",
       "   cluster_cellphones_ph_na  cluster_estimated_annual_phone_cost_ph_na  \\\n",
       "0                       0.0                                     0.5000   \n",
       "1                       0.0                                     0.8750   \n",
       "2                       0.0                                     0.8750   \n",
       "3                       0.0                                     0.8125   \n",
       "4                       0.0                                     0.7500   \n",
       "\n",
       "   cluster_num_hh_surveyed  cluster_nightlights  \n",
       "0                       16             0.000000  \n",
       "1                       16             0.000000  \n",
       "2                       16             0.000000  \n",
       "3                       16             0.121212  \n",
       "4                       16             0.502674  "
      ]
     },
     "execution_count": 4,
     "metadata": {},
     "output_type": "execute_result"
    }
   ],
   "source": [
    "clusters.head()"
   ]
  },
  {
   "cell_type": "code",
   "execution_count": 34,
   "metadata": {},
   "outputs": [],
   "source": [
    "# This is a bunch of code from the Jean et al Github that is modified to work with Python3 and our data\n",
    "\n",
    "import numpy as np\n",
    "import pandas as pd\n",
    "import random\n",
    "from scipy import stats\n",
    "from sklearn.decomposition import PCA\n",
    "from sklearn.preprocessing import StandardScaler\n",
    "from sklearn.model_selection import KFold\n",
    "import sklearn.linear_model as linear_model\n",
    "import matplotlib.pyplot as plt\n",
    "from matplotlib.collections import EllipseCollection\n",
    "import seaborn as sns\n",
    "import joblib\n",
    "from sklearn import metrics\n",
    "import pickle\n",
    "\n",
    "def predict_consumption(\n",
    "    X, y, k=5, k_inner=5, points=10,\n",
    "        alpha_low=1, alpha_high=5, margin=0.25):\n",
    "    \"\"\"\n",
    "    Plots predicted consumption\n",
    "    \"\"\"\n",
    "    y_hat, r2, ridges, scalers = run_cv(X, y, k, k_inner, points, alpha_low, alpha_high)\n",
    "    return y_hat, r2, ridges, scalers\n",
    "\n",
    "\n",
    "def run_cv(X, y, k, k_inner, points, alpha_low, alpha_high, randomize=False):\n",
    "    \"\"\"\n",
    "    Runs nested cross-validation to make predictions and compute r-squared.\n",
    "    \"\"\"\n",
    "    alphas = np.logspace(alpha_low, alpha_high, points)\n",
    "    r2s = np.zeros((k,))\n",
    "    y_hat = np.zeros_like(y)\n",
    "    kf = KFold(n_splits=k, shuffle=True)\n",
    "    fold = 0\n",
    "    ridges = []\n",
    "    scalers = []\n",
    "    for train_idx, test_idx in kf.split(X):\n",
    "        r2s, y_hat, fold, ridge, scaler = evaluate_fold(\n",
    "            X, y, train_idx, test_idx, k_inner, alphas, r2s, y_hat, fold,\n",
    "            randomize)\n",
    "        ridges.append(ridge)\n",
    "        scalers.append(scaler)\n",
    "    return y_hat, r2s.mean(), ridges, scalers\n",
    "\n",
    "\n",
    "def scale_features(X_train, X_test):\n",
    "    \"\"\"\n",
    "    Scales features using StandardScaler.\n",
    "    \"\"\"\n",
    "    X_scaler = StandardScaler(with_mean=True, with_std=False)\n",
    "    X_train = X_scaler.fit_transform(X_train)\n",
    "    X_test = X_scaler.transform(X_test)\n",
    "    return X_train, X_test, X_scaler\n",
    "\n",
    "\n",
    "def train_and_predict_ridge(alpha, X_train, y_train, X_test):\n",
    "    \"\"\"\n",
    "    Trains ridge model and predicts test set.\n",
    "    \"\"\"\n",
    "    ridge = linear_model.Ridge(alpha)\n",
    "    ridge.fit(X_train, y_train)\n",
    "    y_hat = ridge.predict(X_test)\n",
    "    return y_hat, ridge\n",
    "\n",
    "\n",
    "def predict_inner_test_fold(X, y, y_hat, train_idx, test_idx, alpha):\n",
    "    \"\"\"\n",
    "    Predicts inner test fold.\n",
    "    \"\"\"\n",
    "    X_train, X_test = X[train_idx], X[test_idx]\n",
    "    y_train, y_test = y[train_idx], y[test_idx]\n",
    "    X_train, X_test, _ = scale_features(X_train, X_test)\n",
    "    y_hat[test_idx], _ = train_and_predict_ridge(alpha, X_train, y_train, X_test)\n",
    "    return y_hat\n",
    "\n",
    "\n",
    "def find_best_alpha(X, y, k_inner, alphas):\n",
    "    \"\"\"\n",
    "    Finds the best alpha in an inner CV loop.\n",
    "    \"\"\"\n",
    "    kf = KFold(n_splits=k_inner, shuffle=True)\n",
    "    best_alpha = 0\n",
    "    best_r2 = 0\n",
    "    for idx, alpha in enumerate(alphas):\n",
    "        y_hat = np.zeros_like(y)\n",
    "        for train_idx, test_idx in kf.split(X):\n",
    "            y_hat = predict_inner_test_fold(\n",
    "                X, y, y_hat, train_idx, test_idx, alpha)\n",
    "        r2 = stats.pearsonr(y, y_hat)[0] ** 2\n",
    "        if r2 > best_r2:\n",
    "            best_alpha = alpha\n",
    "            best_r2 = r2\n",
    "    print('best alpha', best_alpha)\n",
    "    return best_alpha\n",
    "\n",
    "\n",
    "def evaluate_fold(\n",
    "    X, y, train_idx, test_idx, k_inner, alphas, r2s, y_hat, fold,\n",
    "        randomize):\n",
    "    \"\"\"\n",
    "    Evaluates one fold of outer CV.\n",
    "    \"\"\"\n",
    "    X_train, X_test = X[train_idx], X[test_idx]\n",
    "    y_train, y_test = y[train_idx], y[test_idx]\n",
    "    if randomize:\n",
    "        random.shuffle(y_train)\n",
    "    best_alpha = find_best_alpha(X_train, y_train, k_inner, alphas)\n",
    "    X_train, X_test, scaler = scale_features(X_train, X_test)\n",
    "    y_test_hat, ridge = train_and_predict_ridge(best_alpha, X_train, y_train, X_test)\n",
    "    r2 = stats.pearsonr(y_test, y_test_hat)[0] ** 2\n",
    "    r2s[fold] = r2\n",
    "    y_hat[test_idx] = y_test_hat\n",
    "    return r2s, y_hat, fold + 1, ridge, scaler\n"
   ]
  },
  {
   "cell_type": "code",
   "execution_count": 10,
   "metadata": {},
   "outputs": [],
   "source": [
    "y = clusters['cluster_annual_consumption_pc'].values\n",
    "y_log = np.log(y + 0.0001)"
   ]
  },
  {
   "cell_type": "code",
   "execution_count": 11,
   "metadata": {},
   "outputs": [
    {
     "name": "stdout",
     "output_type": "stream",
     "text": [
      "best alpha 10.0\n",
      "best alpha 77.4263682681127\n",
      "best alpha 215.44346900318823\n",
      "best alpha 77.4263682681127\n",
      "best alpha 10.0\n"
     ]
    },
    {
     "data": {
      "text/plain": [
       "0.4532365159422239"
      ]
     },
     "execution_count": 11,
     "metadata": {},
     "output_type": "execute_result"
    }
   ],
   "source": [
    "y_hat_log, r2, ridges, scalers = predict_consumption(feats, y_log)\n",
    "r2"
   ]
  },
  {
   "cell_type": "code",
   "execution_count": 12,
   "metadata": {},
   "outputs": [
    {
     "name": "stdout",
     "output_type": "stream",
     "text": [
      "best alpha 215.44346900318823\n",
      "best alpha 215.44346900318823\n",
      "best alpha 599.4842503189409\n",
      "best alpha 599.4842503189409\n",
      "best alpha 599.4842503189409\n"
     ]
    },
    {
     "data": {
      "text/plain": [
       "0.2676335417621222"
      ]
     },
     "execution_count": 12,
     "metadata": {},
     "output_type": "execute_result"
    }
   ],
   "source": [
    "y_hat, r2, ridges, scalers = predict_consumption(feats, y)\n",
    "r2"
   ]
  },
  {
   "cell_type": "code",
   "execution_count": 13,
   "metadata": {},
   "outputs": [],
   "source": [
    "clusters['predicted_cluster_annual_consumption_pc'] = y_hat\n",
    "clusters['predicted_cluster_log_cons'] = y_hat_log"
   ]
  },
  {
   "cell_type": "code",
   "execution_count": 14,
   "metadata": {},
   "outputs": [
    {
     "data": {
      "text/plain": [
       "0.15490207052283644"
      ]
     },
     "execution_count": 14,
     "metadata": {},
     "output_type": "execute_result"
    }
   ],
   "source": [
    "re = RidgeEnsemble(ridges, scalers)\n",
    "metrics.r2_score(y, re.predict(feats))"
   ]
  },
  {
   "cell_type": "code",
   "execution_count": 17,
   "metadata": {
    "scrolled": true
   },
   "outputs": [
    {
     "data": {
      "text/plain": [
       "['../models/ridge_consumption.joblib']"
      ]
     },
     "execution_count": 17,
     "metadata": {},
     "output_type": "execute_result"
    }
   ],
   "source": [
    "joblib.dump(re, '../models/ridge_consumption.joblib')"
   ]
  },
  {
   "cell_type": "code",
   "execution_count": null,
   "metadata": {},
   "outputs": [],
   "source": []
  },
  {
   "cell_type": "code",
   "execution_count": 22,
   "metadata": {},
   "outputs": [],
   "source": [
    "y = clusters['cluster_annual_phone_consumption_pc'].values\n",
    "y_log = np.log(y + 0.0001)"
   ]
  },
  {
   "cell_type": "code",
   "execution_count": 23,
   "metadata": {},
   "outputs": [
    {
     "name": "stdout",
     "output_type": "stream",
     "text": [
      "best alpha 215.44346900318823\n",
      "best alpha 215.44346900318823\n",
      "best alpha 599.4842503189409\n",
      "best alpha 215.44346900318823\n",
      "best alpha 215.44346900318823\n"
     ]
    },
    {
     "data": {
      "text/plain": [
       "0.1942243389251287"
      ]
     },
     "execution_count": 23,
     "metadata": {},
     "output_type": "execute_result"
    }
   ],
   "source": [
    "y_hat_log, r2, ridges, scalers = predict_consumption(feats, y_log)\n",
    "r2"
   ]
  },
  {
   "cell_type": "code",
   "execution_count": 24,
   "metadata": {},
   "outputs": [
    {
     "name": "stdout",
     "output_type": "stream",
     "text": [
      "best alpha 77.4263682681127\n",
      "best alpha 77.4263682681127\n",
      "best alpha 77.4263682681127\n",
      "best alpha 77.4263682681127\n",
      "best alpha 77.4263682681127\n"
     ]
    },
    {
     "data": {
      "text/plain": [
       "0.3752444534237157"
      ]
     },
     "execution_count": 24,
     "metadata": {},
     "output_type": "execute_result"
    }
   ],
   "source": [
    "y_hat, r2, ridges, scalers = predict_consumption(feats, y)\n",
    "r2"
   ]
  },
  {
   "cell_type": "code",
   "execution_count": 25,
   "metadata": {},
   "outputs": [],
   "source": [
    "clusters['predicted_cluster_annual_phone_consumption_pc'] = y_hat\n",
    "clusters['predicted_cluster_log_annual_phone_consumption_pc'] = y_hat_log"
   ]
  },
  {
   "cell_type": "code",
   "execution_count": 27,
   "metadata": {},
   "outputs": [
    {
     "data": {
      "text/plain": [
       "0.41915520039230636"
      ]
     },
     "execution_count": 27,
     "metadata": {},
     "output_type": "execute_result"
    }
   ],
   "source": [
    "re = RidgeEnsemble(ridges, scalers)\n",
    "metrics.r2_score(y, re.predict(feats))"
   ]
  },
  {
   "cell_type": "code",
   "execution_count": 28,
   "metadata": {},
   "outputs": [
    {
     "data": {
      "text/plain": [
       "['../models/ridge_phone_consumption.joblib']"
      ]
     },
     "execution_count": 28,
     "metadata": {},
     "output_type": "execute_result"
    }
   ],
   "source": [
    "joblib.dump(re, '../models/ridge_phone_consumption.joblib')"
   ]
  },
  {
   "cell_type": "code",
   "execution_count": null,
   "metadata": {},
   "outputs": [],
   "source": []
  },
  {
   "cell_type": "code",
   "execution_count": 29,
   "metadata": {},
   "outputs": [],
   "source": [
    "y = clusters['cluster_cellphones_pc'].values\n",
    "y_log = np.log(y + 0.0001)"
   ]
  },
  {
   "cell_type": "code",
   "execution_count": 35,
   "metadata": {},
   "outputs": [
    {
     "name": "stdout",
     "output_type": "stream",
     "text": [
      "best alpha 215.44346900318823\n",
      "best alpha 77.4263682681127\n",
      "best alpha 77.4263682681127\n",
      "best alpha 27.825594022071243\n",
      "best alpha 10.0\n"
     ]
    },
    {
     "data": {
      "text/plain": [
       "0.25008891035688213"
      ]
     },
     "execution_count": 35,
     "metadata": {},
     "output_type": "execute_result"
    }
   ],
   "source": [
    "y_hat_log, r2, ridges, scalers = predict_consumption(feats, y_log)\n",
    "r2"
   ]
  },
  {
   "cell_type": "code",
   "execution_count": 36,
   "metadata": {},
   "outputs": [
    {
     "name": "stdout",
     "output_type": "stream",
     "text": [
      "best alpha 27.825594022071243\n",
      "best alpha 77.4263682681127\n",
      "best alpha 27.825594022071243\n",
      "best alpha 77.4263682681127\n",
      "best alpha 27.825594022071243\n"
     ]
    },
    {
     "data": {
      "text/plain": [
       "0.5033864791415932"
      ]
     },
     "execution_count": 36,
     "metadata": {},
     "output_type": "execute_result"
    }
   ],
   "source": [
    "y_hat, r2, ridges, scalers = predict_consumption(feats, y)\n",
    "r2"
   ]
  },
  {
   "cell_type": "code",
   "execution_count": 37,
   "metadata": {},
   "outputs": [],
   "source": [
    "clusters['predicted_cluster_cellphones_pc'] = y_hat\n",
    "clusters['predicted_cluster_log_cellphones_pc'] = y_hat_log"
   ]
  },
  {
   "cell_type": "code",
   "execution_count": 38,
   "metadata": {},
   "outputs": [
    {
     "data": {
      "text/plain": [
       "0.5705474211027788"
      ]
     },
     "execution_count": 38,
     "metadata": {},
     "output_type": "execute_result"
    }
   ],
   "source": [
    "re = RidgeEnsemble(ridges, scalers)\n",
    "metrics.r2_score(y, re.predict(feats))"
   ]
  },
  {
   "cell_type": "code",
   "execution_count": 40,
   "metadata": {},
   "outputs": [
    {
     "data": {
      "text/plain": [
       "['../models/ridge_phone_density.joblib']"
      ]
     },
     "execution_count": 40,
     "metadata": {},
     "output_type": "execute_result"
    }
   ],
   "source": [
    "joblib.dump(re, '../models/ridge_phone_density.joblib')"
   ]
  },
  {
   "cell_type": "code",
   "execution_count": null,
   "metadata": {},
   "outputs": [],
   "source": []
  },
  {
   "cell_type": "code",
   "execution_count": 41,
   "metadata": {},
   "outputs": [],
   "source": [
    "not_nas = ~clusters['cluster_estimated_annual_phone_cost_pc'].isna()"
   ]
  },
  {
   "cell_type": "code",
   "execution_count": 42,
   "metadata": {},
   "outputs": [],
   "source": [
    "y = clusters['cluster_estimated_annual_phone_cost_pc'].values[not_nas]\n",
    "y_log = np.log(y + 0.0001)"
   ]
  },
  {
   "cell_type": "code",
   "execution_count": 44,
   "metadata": {},
   "outputs": [
    {
     "name": "stdout",
     "output_type": "stream",
     "text": [
      "best alpha 77.4263682681127\n",
      "best alpha 77.4263682681127\n",
      "best alpha 599.4842503189409\n",
      "best alpha 599.4842503189409\n",
      "best alpha 27.825594022071243\n"
     ]
    },
    {
     "data": {
      "text/plain": [
       "0.17912792993120533"
      ]
     },
     "execution_count": 44,
     "metadata": {},
     "output_type": "execute_result"
    }
   ],
   "source": [
    "y_hat_log, r2, ridges, scalers = predict_consumption(feats[not_nas], y_log)\n",
    "r2"
   ]
  },
  {
   "cell_type": "code",
   "execution_count": 45,
   "metadata": {},
   "outputs": [
    {
     "name": "stdout",
     "output_type": "stream",
     "text": [
      "best alpha 215.44346900318823\n",
      "best alpha 27.825594022071243\n",
      "best alpha 77.4263682681127\n",
      "best alpha 27.825594022071243\n",
      "best alpha 599.4842503189409\n"
     ]
    },
    {
     "data": {
      "text/plain": [
       "0.3359779551009823"
      ]
     },
     "execution_count": 45,
     "metadata": {},
     "output_type": "execute_result"
    }
   ],
   "source": [
    "y_hat_log, r2, ridges, scalers = predict_consumption(feats[not_nas], y)\n",
    "r2"
   ]
  },
  {
   "cell_type": "code",
   "execution_count": null,
   "metadata": {},
   "outputs": [],
   "source": []
  },
  {
   "cell_type": "code",
   "execution_count": 46,
   "metadata": {},
   "outputs": [
    {
     "name": "stderr",
     "output_type": "stream",
     "text": [
      "/Applications/anaconda3/lib/python3.7/site-packages/pandas/core/indexing.py:205: SettingWithCopyWarning: \n",
      "A value is trying to be set on a copy of a slice from a DataFrame\n",
      "\n",
      "See the caveats in the documentation: http://pandas.pydata.org/pandas-docs/stable/user_guide/indexing.html#returning-a-view-versus-a-copy\n",
      "  self._setitem_with_indexer(indexer, value)\n"
     ]
    }
   ],
   "source": [
    "clusters['predicted_cluster_estimated_annual_phone_cost_pc'] = np.nan\n",
    "clusters['predicted_cluster_log_estimated_annual_phone_cost_pc'] = np.nan\n",
    "\n",
    "clusters['predicted_cluster_estimated_annual_phone_cost_pc'].loc[not_nas] = y_hat\n",
    "clusters['predicted_cluster_log_estimated_annual_phone_cost_pc'].loc[not_nas] = y_hat_log"
   ]
  },
  {
   "cell_type": "code",
   "execution_count": null,
   "metadata": {},
   "outputs": [],
   "source": []
  },
  {
   "cell_type": "code",
   "execution_count": 47,
   "metadata": {},
   "outputs": [
    {
     "data": {
      "text/html": [
       "<div>\n",
       "<style scoped>\n",
       "    .dataframe tbody tr th:only-of-type {\n",
       "        vertical-align: middle;\n",
       "    }\n",
       "\n",
       "    .dataframe tbody tr th {\n",
       "        vertical-align: top;\n",
       "    }\n",
       "\n",
       "    .dataframe thead th {\n",
       "        text-align: right;\n",
       "    }\n",
       "</style>\n",
       "<table border=\"1\" class=\"dataframe\">\n",
       "  <thead>\n",
       "    <tr style=\"text-align: right;\">\n",
       "      <th></th>\n",
       "      <th>cluster_lat</th>\n",
       "      <th>cluster_lon</th>\n",
       "      <th>cluster_persons_surveyed</th>\n",
       "      <th>cluster_annual_consumption_pc</th>\n",
       "      <th>cluster_annual_phone_consumption_pc</th>\n",
       "      <th>cluster_cellphones_pc</th>\n",
       "      <th>cluster_estimated_annual_phone_cost_pc</th>\n",
       "      <th>cluster_annual_consumption_hh_na</th>\n",
       "      <th>cluster_annual_phone_consumption_hh_na</th>\n",
       "      <th>cluster_cellphones_ph_na</th>\n",
       "      <th>...</th>\n",
       "      <th>cluster_num_hh_surveyed</th>\n",
       "      <th>cluster_nightlights</th>\n",
       "      <th>predicted_cluster_annual_consumption_pc</th>\n",
       "      <th>predicted_cluster_log_cons</th>\n",
       "      <th>predicted_cluster_annual_phone_consumption_pc</th>\n",
       "      <th>predicted_cluster_log_annual_phone_consumption_pc</th>\n",
       "      <th>predicted_cluster_cellphones_pc</th>\n",
       "      <th>predicted_cluster_log_cellphones_pc</th>\n",
       "      <th>predicted_cluster_estimated_annual_phone_cost_pc</th>\n",
       "      <th>predicted_cluster_log_estimated_annual_phone_cost_pc</th>\n",
       "    </tr>\n",
       "  </thead>\n",
       "  <tbody>\n",
       "    <tr>\n",
       "      <td>0</td>\n",
       "      <td>-17.095150</td>\n",
       "      <td>35.217213</td>\n",
       "      <td>79</td>\n",
       "      <td>961.328026</td>\n",
       "      <td>47.627469</td>\n",
       "      <td>0.177215</td>\n",
       "      <td>428.481013</td>\n",
       "      <td>0.0</td>\n",
       "      <td>0.0</td>\n",
       "      <td>0.0</td>\n",
       "      <td>...</td>\n",
       "      <td>16</td>\n",
       "      <td>0.000000</td>\n",
       "      <td>1241.247367</td>\n",
       "      <td>6.850958</td>\n",
       "      <td>29.121409</td>\n",
       "      <td>2.830344</td>\n",
       "      <td>0.144066</td>\n",
       "      <td>-2.271444</td>\n",
       "      <td>0.144066</td>\n",
       "      <td>218.328612</td>\n",
       "    </tr>\n",
       "    <tr>\n",
       "      <td>1</td>\n",
       "      <td>-17.092351</td>\n",
       "      <td>35.114643</td>\n",
       "      <td>70</td>\n",
       "      <td>855.258482</td>\n",
       "      <td>3.189638</td>\n",
       "      <td>0.028571</td>\n",
       "      <td>32.571429</td>\n",
       "      <td>0.0</td>\n",
       "      <td>0.0</td>\n",
       "      <td>0.0</td>\n",
       "      <td>...</td>\n",
       "      <td>16</td>\n",
       "      <td>0.000000</td>\n",
       "      <td>994.290808</td>\n",
       "      <td>6.982761</td>\n",
       "      <td>23.046583</td>\n",
       "      <td>2.912264</td>\n",
       "      <td>0.093851</td>\n",
       "      <td>-3.010220</td>\n",
       "      <td>0.093851</td>\n",
       "      <td>330.626006</td>\n",
       "    </tr>\n",
       "    <tr>\n",
       "      <td>2</td>\n",
       "      <td>-17.016698</td>\n",
       "      <td>35.079629</td>\n",
       "      <td>78</td>\n",
       "      <td>1058.343450</td>\n",
       "      <td>1.978659</td>\n",
       "      <td>0.025641</td>\n",
       "      <td>19.230769</td>\n",
       "      <td>0.0</td>\n",
       "      <td>0.0</td>\n",
       "      <td>0.0</td>\n",
       "      <td>...</td>\n",
       "      <td>16</td>\n",
       "      <td>0.000000</td>\n",
       "      <td>1026.633617</td>\n",
       "      <td>6.969120</td>\n",
       "      <td>20.632943</td>\n",
       "      <td>2.766274</td>\n",
       "      <td>0.064562</td>\n",
       "      <td>-2.587164</td>\n",
       "      <td>0.064562</td>\n",
       "      <td>170.094968</td>\n",
       "    </tr>\n",
       "    <tr>\n",
       "      <td>3</td>\n",
       "      <td>-16.977243</td>\n",
       "      <td>35.205706</td>\n",
       "      <td>66</td>\n",
       "      <td>1127.493134</td>\n",
       "      <td>8.631155</td>\n",
       "      <td>0.045455</td>\n",
       "      <td>83.333333</td>\n",
       "      <td>0.0</td>\n",
       "      <td>0.0</td>\n",
       "      <td>0.0</td>\n",
       "      <td>...</td>\n",
       "      <td>16</td>\n",
       "      <td>0.121212</td>\n",
       "      <td>1545.520360</td>\n",
       "      <td>7.137436</td>\n",
       "      <td>45.898687</td>\n",
       "      <td>2.962992</td>\n",
       "      <td>0.140639</td>\n",
       "      <td>-2.223968</td>\n",
       "      <td>0.140639</td>\n",
       "      <td>359.515688</td>\n",
       "    </tr>\n",
       "    <tr>\n",
       "      <td>4</td>\n",
       "      <td>-16.956385</td>\n",
       "      <td>35.168967</td>\n",
       "      <td>61</td>\n",
       "      <td>736.167585</td>\n",
       "      <td>5.081308</td>\n",
       "      <td>0.065574</td>\n",
       "      <td>49.180328</td>\n",
       "      <td>0.0</td>\n",
       "      <td>0.0</td>\n",
       "      <td>0.0</td>\n",
       "      <td>...</td>\n",
       "      <td>16</td>\n",
       "      <td>0.502674</td>\n",
       "      <td>1482.647091</td>\n",
       "      <td>6.914620</td>\n",
       "      <td>28.870149</td>\n",
       "      <td>2.611013</td>\n",
       "      <td>0.101224</td>\n",
       "      <td>-2.508362</td>\n",
       "      <td>0.101224</td>\n",
       "      <td>270.882969</td>\n",
       "    </tr>\n",
       "  </tbody>\n",
       "</table>\n",
       "<p>5 rows × 21 columns</p>\n",
       "</div>"
      ],
      "text/plain": [
       "   cluster_lat  cluster_lon  cluster_persons_surveyed  \\\n",
       "0   -17.095150    35.217213                        79   \n",
       "1   -17.092351    35.114643                        70   \n",
       "2   -17.016698    35.079629                        78   \n",
       "3   -16.977243    35.205706                        66   \n",
       "4   -16.956385    35.168967                        61   \n",
       "\n",
       "   cluster_annual_consumption_pc  cluster_annual_phone_consumption_pc  \\\n",
       "0                     961.328026                            47.627469   \n",
       "1                     855.258482                             3.189638   \n",
       "2                    1058.343450                             1.978659   \n",
       "3                    1127.493134                             8.631155   \n",
       "4                     736.167585                             5.081308   \n",
       "\n",
       "   cluster_cellphones_pc  cluster_estimated_annual_phone_cost_pc  \\\n",
       "0               0.177215                              428.481013   \n",
       "1               0.028571                               32.571429   \n",
       "2               0.025641                               19.230769   \n",
       "3               0.045455                               83.333333   \n",
       "4               0.065574                               49.180328   \n",
       "\n",
       "   cluster_annual_consumption_hh_na  cluster_annual_phone_consumption_hh_na  \\\n",
       "0                               0.0                                     0.0   \n",
       "1                               0.0                                     0.0   \n",
       "2                               0.0                                     0.0   \n",
       "3                               0.0                                     0.0   \n",
       "4                               0.0                                     0.0   \n",
       "\n",
       "   cluster_cellphones_ph_na  ...  cluster_num_hh_surveyed  \\\n",
       "0                       0.0  ...                       16   \n",
       "1                       0.0  ...                       16   \n",
       "2                       0.0  ...                       16   \n",
       "3                       0.0  ...                       16   \n",
       "4                       0.0  ...                       16   \n",
       "\n",
       "   cluster_nightlights  predicted_cluster_annual_consumption_pc  \\\n",
       "0             0.000000                              1241.247367   \n",
       "1             0.000000                               994.290808   \n",
       "2             0.000000                              1026.633617   \n",
       "3             0.121212                              1545.520360   \n",
       "4             0.502674                              1482.647091   \n",
       "\n",
       "   predicted_cluster_log_cons  predicted_cluster_annual_phone_consumption_pc  \\\n",
       "0                    6.850958                                      29.121409   \n",
       "1                    6.982761                                      23.046583   \n",
       "2                    6.969120                                      20.632943   \n",
       "3                    7.137436                                      45.898687   \n",
       "4                    6.914620                                      28.870149   \n",
       "\n",
       "   predicted_cluster_log_annual_phone_consumption_pc  \\\n",
       "0                                           2.830344   \n",
       "1                                           2.912264   \n",
       "2                                           2.766274   \n",
       "3                                           2.962992   \n",
       "4                                           2.611013   \n",
       "\n",
       "   predicted_cluster_cellphones_pc  predicted_cluster_log_cellphones_pc  \\\n",
       "0                         0.144066                            -2.271444   \n",
       "1                         0.093851                            -3.010220   \n",
       "2                         0.064562                            -2.587164   \n",
       "3                         0.140639                            -2.223968   \n",
       "4                         0.101224                            -2.508362   \n",
       "\n",
       "   predicted_cluster_estimated_annual_phone_cost_pc  \\\n",
       "0                                          0.144066   \n",
       "1                                          0.093851   \n",
       "2                                          0.064562   \n",
       "3                                          0.140639   \n",
       "4                                          0.101224   \n",
       "\n",
       "   predicted_cluster_log_estimated_annual_phone_cost_pc  \n",
       "0                                         218.328612     \n",
       "1                                         330.626006     \n",
       "2                                         170.094968     \n",
       "3                                         359.515688     \n",
       "4                                         270.882969     \n",
       "\n",
       "[5 rows x 21 columns]"
      ]
     },
     "execution_count": 47,
     "metadata": {},
     "output_type": "execute_result"
    }
   ],
   "source": [
    "clusters.head()"
   ]
  },
  {
   "cell_type": "code",
   "execution_count": null,
   "metadata": {},
   "outputs": [],
   "source": []
  },
  {
   "cell_type": "code",
   "execution_count": 52,
   "metadata": {},
   "outputs": [],
   "source": [
    "to_drop = []\n",
    "for c in clusters.columns:\n",
    "    if '_na' in c:\n",
    "        to_drop.append(c)\n",
    "\n",
    "clusters.drop(to_drop, axis=1).to_csv('cluster_cnn_predictions.csv', index=False)\n"
   ]
  },
  {
   "cell_type": "code",
   "execution_count": null,
   "metadata": {},
   "outputs": [],
   "source": []
  }
 ],
 "metadata": {
  "kernelspec": {
   "display_name": "Python 3",
   "language": "python",
   "name": "python3"
  },
  "language_info": {
   "codemirror_mode": {
    "name": "ipython",
    "version": 3
   },
   "file_extension": ".py",
   "mimetype": "text/x-python",
   "name": "python",
   "nbconvert_exporter": "python",
   "pygments_lexer": "ipython3",
   "version": "3.7.3"
  }
 },
 "nbformat": 4,
 "nbformat_minor": 2
}
