{
 "cells": [
  {
   "cell_type": "markdown",
   "metadata": {},
   "source": [
    "This file uses the LSMS survey data and find the grid each cluster belongs in. It then compares the grid prediction to the known LSMS value. Keep in mind that grids are 10km x 10km, and the centroid used for the grid may not be close to the cluster. The fact that there is a correlation suggests that the model fitted the grids well."
   ]
  },
  {
   "cell_type": "code",
   "execution_count": 1,
   "metadata": {},
   "outputs": [],
   "source": [
    "import geopandas as gpd\n",
    "import pandas as pd\n",
    "import numpy as np"
   ]
  },
  {
   "cell_type": "code",
   "execution_count": 2,
   "metadata": {},
   "outputs": [],
   "source": [
    "df_geo = gpd.read_file('../data/malawi/grid/grid.shp')"
   ]
  },
  {
   "cell_type": "code",
   "execution_count": 3,
   "metadata": {},
   "outputs": [],
   "source": [
    "clusters = pd.read_csv('../LSMS/output/malawi/cluster_data.csv')"
   ]
  },
  {
   "cell_type": "code",
   "execution_count": 7,
   "metadata": {},
   "outputs": [],
   "source": [
    "def find_idx(point):\n",
    "    for i, poly in enumerate(df_geo['geometry']):\n",
    "        if poly.contains(point):\n",
    "            return i\n",
    "    return np.nan\n",
    "\n",
    "from shapely.geometry.point import Point\n",
    "points = clusters.apply(lambda x: Point(x.cluster_lon, x.cluster_lat), axis=1)\n",
    "\n",
    "clusters['geo_idx'] = points.apply(find_idx)"
   ]
  },
  {
   "cell_type": "code",
   "execution_count": 8,
   "metadata": {},
   "outputs": [
    {
     "data": {
      "text/html": [
       "<div>\n",
       "<style scoped>\n",
       "    .dataframe tbody tr th:only-of-type {\n",
       "        vertical-align: middle;\n",
       "    }\n",
       "\n",
       "    .dataframe tbody tr th {\n",
       "        vertical-align: top;\n",
       "    }\n",
       "\n",
       "    .dataframe thead th {\n",
       "        text-align: right;\n",
       "    }\n",
       "</style>\n",
       "<table border=\"1\" class=\"dataframe\">\n",
       "  <thead>\n",
       "    <tr style=\"text-align: right;\">\n",
       "      <th></th>\n",
       "      <th>cluster_lat</th>\n",
       "      <th>cluster_lon</th>\n",
       "      <th>cluster_persons_surveyed</th>\n",
       "      <th>cluster_annual_consumption_pc</th>\n",
       "      <th>cluster_annual_phone_consumption_pc</th>\n",
       "      <th>cluster_cellphones_pc</th>\n",
       "      <th>cluster_estimated_annual_phone_cost_pc</th>\n",
       "      <th>cluster_nightlights</th>\n",
       "      <th>geo_idx</th>\n",
       "    </tr>\n",
       "  </thead>\n",
       "  <tbody>\n",
       "    <tr>\n",
       "      <th>0</th>\n",
       "      <td>-17.095150</td>\n",
       "      <td>35.217213</td>\n",
       "      <td>79</td>\n",
       "      <td>961.328026</td>\n",
       "      <td>47.627469</td>\n",
       "      <td>0.177215</td>\n",
       "      <td>428.481013</td>\n",
       "      <td>0.000000</td>\n",
       "      <td>1039.0</td>\n",
       "    </tr>\n",
       "    <tr>\n",
       "      <th>1</th>\n",
       "      <td>-17.092351</td>\n",
       "      <td>35.114643</td>\n",
       "      <td>70</td>\n",
       "      <td>855.258482</td>\n",
       "      <td>3.189638</td>\n",
       "      <td>0.028571</td>\n",
       "      <td>32.571429</td>\n",
       "      <td>0.000000</td>\n",
       "      <td>1001.0</td>\n",
       "    </tr>\n",
       "    <tr>\n",
       "      <th>2</th>\n",
       "      <td>-17.016698</td>\n",
       "      <td>35.079629</td>\n",
       "      <td>78</td>\n",
       "      <td>1058.343450</td>\n",
       "      <td>1.978659</td>\n",
       "      <td>0.025641</td>\n",
       "      <td>19.230769</td>\n",
       "      <td>0.000000</td>\n",
       "      <td>960.0</td>\n",
       "    </tr>\n",
       "    <tr>\n",
       "      <th>3</th>\n",
       "      <td>-16.977243</td>\n",
       "      <td>35.205706</td>\n",
       "      <td>66</td>\n",
       "      <td>1127.493134</td>\n",
       "      <td>8.631155</td>\n",
       "      <td>0.045455</td>\n",
       "      <td>83.333333</td>\n",
       "      <td>0.121212</td>\n",
       "      <td>1038.0</td>\n",
       "    </tr>\n",
       "    <tr>\n",
       "      <th>4</th>\n",
       "      <td>-16.956385</td>\n",
       "      <td>35.168967</td>\n",
       "      <td>61</td>\n",
       "      <td>736.167585</td>\n",
       "      <td>5.081308</td>\n",
       "      <td>0.065574</td>\n",
       "      <td>49.180328</td>\n",
       "      <td>0.502674</td>\n",
       "      <td>1000.0</td>\n",
       "    </tr>\n",
       "  </tbody>\n",
       "</table>\n",
       "</div>"
      ],
      "text/plain": [
       "   cluster_lat  cluster_lon  cluster_persons_surveyed  \\\n",
       "0   -17.095150    35.217213                        79   \n",
       "1   -17.092351    35.114643                        70   \n",
       "2   -17.016698    35.079629                        78   \n",
       "3   -16.977243    35.205706                        66   \n",
       "4   -16.956385    35.168967                        61   \n",
       "\n",
       "   cluster_annual_consumption_pc  cluster_annual_phone_consumption_pc  \\\n",
       "0                     961.328026                            47.627469   \n",
       "1                     855.258482                             3.189638   \n",
       "2                    1058.343450                             1.978659   \n",
       "3                    1127.493134                             8.631155   \n",
       "4                     736.167585                             5.081308   \n",
       "\n",
       "   cluster_cellphones_pc  cluster_estimated_annual_phone_cost_pc  \\\n",
       "0               0.177215                              428.481013   \n",
       "1               0.028571                               32.571429   \n",
       "2               0.025641                               19.230769   \n",
       "3               0.045455                               83.333333   \n",
       "4               0.065574                               49.180328   \n",
       "\n",
       "   cluster_nightlights  geo_idx  \n",
       "0             0.000000   1039.0  \n",
       "1             0.000000   1001.0  \n",
       "2             0.000000    960.0  \n",
       "3             0.121212   1038.0  \n",
       "4             0.502674   1000.0  "
      ]
     },
     "execution_count": 8,
     "metadata": {},
     "output_type": "execute_result"
    }
   ],
   "source": [
    "clusters.head()"
   ]
  },
  {
   "cell_type": "code",
   "execution_count": 9,
   "metadata": {},
   "outputs": [],
   "source": [
    "preds = pd.read_csv('../results/malawi/ridge_phone_density/predictions.csv')"
   ]
  },
  {
   "cell_type": "code",
   "execution_count": 10,
   "metadata": {},
   "outputs": [
    {
     "data": {
      "text/plain": [
       "((1203, 17), (1203, 5))"
      ]
     },
     "execution_count": 10,
     "metadata": {},
     "output_type": "execute_result"
    }
   ],
   "source": [
    "df_geo['geo_idx'] = np.arange(len(df_geo))\n",
    "df_geo['centroid'] = df_geo['geometry'].centroid\n",
    "\n",
    "df_geo['centroid_lat'] = df_geo['centroid'].apply(lambda point: point.y)\n",
    "df_geo['centroid_lon'] = df_geo['centroid'].apply(lambda point: point.x)\n",
    "\n",
    "preds['centroid_lat'] = preds['centroid_lat'].astype(np.float64)\n",
    "preds['centroid_lon'] = preds['centroid_lon'].astype(np.float64)\n",
    "\n",
    "df_geo['centroid_lat'] = df_geo['centroid_lat'].astype(np.float64)\n",
    "df_geo['centroid_lon'] = df_geo['centroid_lon'].astype(np.float64)\n",
    "\n",
    "# must use ints for merging, as floats induce errors\n",
    "df_geo['merge_lat'] = (10000 * df_geo['centroid_lat']).astype(int)\n",
    "df_geo['merge_lon'] = (10000 * df_geo['centroid_lon']).astype(int)\n",
    "\n",
    "preds['merge_lat'] = (10000 * preds['centroid_lat']).astype(int)\n",
    "preds['merge_lon'] = (10000 * preds['centroid_lon']).astype(int)\n",
    "\n",
    "df_geo.shape, preds.shape"
   ]
  },
  {
   "cell_type": "code",
   "execution_count": 11,
   "metadata": {},
   "outputs": [],
   "source": [
    "merged = pd.merge(df_geo, preds.drop(['centroid_lat', 'centroid_lon'], axis=1), on=['merge_lat', 'merge_lon'])"
   ]
  },
  {
   "cell_type": "code",
   "execution_count": 12,
   "metadata": {},
   "outputs": [
    {
     "data": {
      "text/plain": [
       "(1203, 18)"
      ]
     },
     "execution_count": 12,
     "metadata": {},
     "output_type": "execute_result"
    }
   ],
   "source": [
    "merged.shape"
   ]
  },
  {
   "cell_type": "code",
   "execution_count": 15,
   "metadata": {},
   "outputs": [],
   "source": [
    "clusters = clusters[['cluster_lat', 'cluster_lon', 'cluster_cellphones_pc', 'geo_idx']].dropna(subset=['geo_idx'])\n",
    "clusters['geo_idx'] = clusters['geo_idx'].astype(int)"
   ]
  },
  {
   "cell_type": "code",
   "execution_count": 16,
   "metadata": {},
   "outputs": [
    {
     "data": {
      "text/plain": [
       "(773, 4)"
      ]
     },
     "execution_count": 16,
     "metadata": {},
     "output_type": "execute_result"
    }
   ],
   "source": [
    "clusters.shape"
   ]
  },
  {
   "cell_type": "code",
   "execution_count": 17,
   "metadata": {},
   "outputs": [],
   "source": [
    "merged = pd.merge(merged, clusters[['cluster_lat', 'cluster_lon', 'cluster_cellphones_pc', 'geo_idx']], on='geo_idx')"
   ]
  },
  {
   "cell_type": "code",
   "execution_count": 18,
   "metadata": {},
   "outputs": [
    {
     "data": {
      "text/plain": [
       "(773, 21)"
      ]
     },
     "execution_count": 18,
     "metadata": {},
     "output_type": "execute_result"
    }
   ],
   "source": [
    "merged.shape"
   ]
  },
  {
   "cell_type": "code",
   "execution_count": 19,
   "metadata": {},
   "outputs": [
    {
     "data": {
      "text/html": [
       "<div>\n",
       "<style scoped>\n",
       "    .dataframe tbody tr th:only-of-type {\n",
       "        vertical-align: middle;\n",
       "    }\n",
       "\n",
       "    .dataframe tbody tr th {\n",
       "        vertical-align: top;\n",
       "    }\n",
       "\n",
       "    .dataframe thead th {\n",
       "        text-align: right;\n",
       "    }\n",
       "</style>\n",
       "<table border=\"1\" class=\"dataframe\">\n",
       "  <thead>\n",
       "    <tr style=\"text-align: right;\">\n",
       "      <th></th>\n",
       "      <th>Shape_Leng</th>\n",
       "      <th>Shape_Area</th>\n",
       "      <th>ADM0_EN</th>\n",
       "      <th>ADM0_PCODE</th>\n",
       "      <th>ADM0_REF</th>\n",
       "      <th>ADM0ALT1EN</th>\n",
       "      <th>ADM0ALT2EN</th>\n",
       "      <th>date</th>\n",
       "      <th>validOn</th>\n",
       "      <th>validTo</th>\n",
       "      <th>...</th>\n",
       "      <th>geo_idx</th>\n",
       "      <th>centroid</th>\n",
       "      <th>centroid_lat</th>\n",
       "      <th>centroid_lon</th>\n",
       "      <th>merge_lat</th>\n",
       "      <th>merge_lon</th>\n",
       "      <th>predicted_phone_density_pc</th>\n",
       "      <th>cluster_lat</th>\n",
       "      <th>cluster_lon</th>\n",
       "      <th>cluster_cellphones_pc</th>\n",
       "    </tr>\n",
       "  </thead>\n",
       "  <tbody>\n",
       "    <tr>\n",
       "      <th>0</th>\n",
       "      <td>31.909743</td>\n",
       "      <td>8.001588</td>\n",
       "      <td>Malawi</td>\n",
       "      <td>MW</td>\n",
       "      <td>None</td>\n",
       "      <td>None</td>\n",
       "      <td>None</td>\n",
       "      <td>2018-09-03</td>\n",
       "      <td>2018-10-16</td>\n",
       "      <td>None</td>\n",
       "      <td>...</td>\n",
       "      <td>10</td>\n",
       "      <td>POINT (32.89619 -13.53158)</td>\n",
       "      <td>-13.531576</td>\n",
       "      <td>32.896189</td>\n",
       "      <td>-135315</td>\n",
       "      <td>328961</td>\n",
       "      <td>0.146435</td>\n",
       "      <td>-13.572201</td>\n",
       "      <td>32.859582</td>\n",
       "      <td>0.088235</td>\n",
       "    </tr>\n",
       "    <tr>\n",
       "      <th>1</th>\n",
       "      <td>31.909743</td>\n",
       "      <td>8.001588</td>\n",
       "      <td>Malawi</td>\n",
       "      <td>MW</td>\n",
       "      <td>None</td>\n",
       "      <td>None</td>\n",
       "      <td>None</td>\n",
       "      <td>2018-09-03</td>\n",
       "      <td>2018-10-16</td>\n",
       "      <td>None</td>\n",
       "      <td>...</td>\n",
       "      <td>10</td>\n",
       "      <td>POINT (32.89619 -13.53158)</td>\n",
       "      <td>-13.531576</td>\n",
       "      <td>32.896189</td>\n",
       "      <td>-135315</td>\n",
       "      <td>328961</td>\n",
       "      <td>0.146435</td>\n",
       "      <td>-13.557205</td>\n",
       "      <td>32.897253</td>\n",
       "      <td>0.166667</td>\n",
       "    </tr>\n",
       "    <tr>\n",
       "      <th>2</th>\n",
       "      <td>31.909743</td>\n",
       "      <td>8.001588</td>\n",
       "      <td>Malawi</td>\n",
       "      <td>MW</td>\n",
       "      <td>None</td>\n",
       "      <td>None</td>\n",
       "      <td>None</td>\n",
       "      <td>2018-09-03</td>\n",
       "      <td>2018-10-16</td>\n",
       "      <td>None</td>\n",
       "      <td>...</td>\n",
       "      <td>13</td>\n",
       "      <td>POINT (32.90195 -13.78705)</td>\n",
       "      <td>-13.787053</td>\n",
       "      <td>32.901946</td>\n",
       "      <td>-137870</td>\n",
       "      <td>329019</td>\n",
       "      <td>0.133649</td>\n",
       "      <td>-13.803408</td>\n",
       "      <td>32.901011</td>\n",
       "      <td>0.385714</td>\n",
       "    </tr>\n",
       "    <tr>\n",
       "      <th>3</th>\n",
       "      <td>31.909743</td>\n",
       "      <td>8.001588</td>\n",
       "      <td>Malawi</td>\n",
       "      <td>MW</td>\n",
       "      <td>None</td>\n",
       "      <td>None</td>\n",
       "      <td>None</td>\n",
       "      <td>2018-09-03</td>\n",
       "      <td>2018-10-16</td>\n",
       "      <td>None</td>\n",
       "      <td>...</td>\n",
       "      <td>13</td>\n",
       "      <td>POINT (32.90195 -13.78705)</td>\n",
       "      <td>-13.787053</td>\n",
       "      <td>32.901946</td>\n",
       "      <td>-137870</td>\n",
       "      <td>329019</td>\n",
       "      <td>0.133649</td>\n",
       "      <td>-13.785994</td>\n",
       "      <td>32.860543</td>\n",
       "      <td>0.241935</td>\n",
       "    </tr>\n",
       "    <tr>\n",
       "      <th>4</th>\n",
       "      <td>31.909743</td>\n",
       "      <td>8.001588</td>\n",
       "      <td>Malawi</td>\n",
       "      <td>MW</td>\n",
       "      <td>None</td>\n",
       "      <td>None</td>\n",
       "      <td>None</td>\n",
       "      <td>2018-09-03</td>\n",
       "      <td>2018-10-16</td>\n",
       "      <td>None</td>\n",
       "      <td>...</td>\n",
       "      <td>28</td>\n",
       "      <td>POINT (32.98602 -13.53158)</td>\n",
       "      <td>-13.531576</td>\n",
       "      <td>32.986020</td>\n",
       "      <td>-135315</td>\n",
       "      <td>329860</td>\n",
       "      <td>0.104337</td>\n",
       "      <td>-13.543769</td>\n",
       "      <td>32.993232</td>\n",
       "      <td>0.188679</td>\n",
       "    </tr>\n",
       "  </tbody>\n",
       "</table>\n",
       "<p>5 rows × 21 columns</p>\n",
       "</div>"
      ],
      "text/plain": [
       "   Shape_Leng  Shape_Area ADM0_EN ADM0_PCODE ADM0_REF ADM0ALT1EN ADM0ALT2EN  \\\n",
       "0   31.909743    8.001588  Malawi         MW     None       None       None   \n",
       "1   31.909743    8.001588  Malawi         MW     None       None       None   \n",
       "2   31.909743    8.001588  Malawi         MW     None       None       None   \n",
       "3   31.909743    8.001588  Malawi         MW     None       None       None   \n",
       "4   31.909743    8.001588  Malawi         MW     None       None       None   \n",
       "\n",
       "         date     validOn validTo  ... geo_idx                    centroid  \\\n",
       "0  2018-09-03  2018-10-16    None  ...      10  POINT (32.89619 -13.53158)   \n",
       "1  2018-09-03  2018-10-16    None  ...      10  POINT (32.89619 -13.53158)   \n",
       "2  2018-09-03  2018-10-16    None  ...      13  POINT (32.90195 -13.78705)   \n",
       "3  2018-09-03  2018-10-16    None  ...      13  POINT (32.90195 -13.78705)   \n",
       "4  2018-09-03  2018-10-16    None  ...      28  POINT (32.98602 -13.53158)   \n",
       "\n",
       "  centroid_lat  centroid_lon  merge_lat  merge_lon  \\\n",
       "0   -13.531576     32.896189    -135315     328961   \n",
       "1   -13.531576     32.896189    -135315     328961   \n",
       "2   -13.787053     32.901946    -137870     329019   \n",
       "3   -13.787053     32.901946    -137870     329019   \n",
       "4   -13.531576     32.986020    -135315     329860   \n",
       "\n",
       "   predicted_phone_density_pc  cluster_lat  cluster_lon  cluster_cellphones_pc  \n",
       "0                    0.146435   -13.572201    32.859582               0.088235  \n",
       "1                    0.146435   -13.557205    32.897253               0.166667  \n",
       "2                    0.133649   -13.803408    32.901011               0.385714  \n",
       "3                    0.133649   -13.785994    32.860543               0.241935  \n",
       "4                    0.104337   -13.543769    32.993232               0.188679  \n",
       "\n",
       "[5 rows x 21 columns]"
      ]
     },
     "execution_count": 19,
     "metadata": {},
     "output_type": "execute_result"
    }
   ],
   "source": [
    "merged.head()"
   ]
  },
  {
   "cell_type": "code",
   "execution_count": 23,
   "metadata": {},
   "outputs": [
    {
     "data": {
      "text/plain": [
       "0.422089201723246"
      ]
     },
     "execution_count": 23,
     "metadata": {},
     "output_type": "execute_result"
    }
   ],
   "source": [
    "merged['predicted_phone_density_pc'].corr(merged['cluster_cellphones_pc'])"
   ]
  },
  {
   "cell_type": "code",
   "execution_count": null,
   "metadata": {},
   "outputs": [],
   "source": []
  },
  {
   "cell_type": "code",
   "execution_count": null,
   "metadata": {},
   "outputs": [],
   "source": []
  }
 ],
 "metadata": {
  "kernelspec": {
   "display_name": "taddle",
   "language": "python",
   "name": "taddle"
  },
  "language_info": {
   "codemirror_mode": {
    "name": "ipython",
    "version": 3
   },
   "file_extension": ".py",
   "mimetype": "text/x-python",
   "name": "python",
   "nbconvert_exporter": "python",
   "pygments_lexer": "ipython3",
   "version": "3.6.7"
  }
 },
 "nbformat": 4,
 "nbformat_minor": 2
}
